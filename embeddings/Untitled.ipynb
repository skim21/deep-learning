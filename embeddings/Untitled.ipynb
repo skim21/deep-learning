{
 "cells": [
  {
   "cell_type": "code",
   "execution_count": 3,
   "metadata": {
    "collapsed": false
   },
   "outputs": [],
   "source": [
    "import numpy as np\n",
    "import random\n",
    "valid_size = 16 # Random set of words to evaluate similarity on.\n",
    "valid_window = 100\n",
    "# pick 8 samples from (0,100) and (1000,1100) each ranges. lower id implies more frequent \n",
    "valid_examples = np.array(random.sample(range(valid_window), valid_size//2))\n",
    "valid_examples = np.append(valid_examples, \n",
    "                           random.sample(range(1000,1000+valid_window), valid_size//2))"
   ]
  },
  {
   "cell_type": "code",
   "execution_count": 5,
   "metadata": {
    "collapsed": false
   },
   "outputs": [
    {
     "name": "stdout",
     "output_type": "stream",
     "text": [
      "[  56   51   79   90    9   60   25   47 1040 1047 1041 1024 1059 1087 1032\n",
      " 1033]\n"
     ]
    }
   ],
   "source": [
    "print(valid_examples)"
   ]
  },
  {
   "cell_type": "code",
   "execution_count": 7,
   "metadata": {
    "collapsed": false
   },
   "outputs": [
    {
     "data": {
      "text/plain": [
       "{'2', '3', '6'}"
      ]
     },
     "execution_count": 7,
     "metadata": {},
     "output_type": "execute_result"
    }
   ],
   "source": [
    "a = ['2','3']\n",
    "b = ['3','6']\n",
    "set(a+b)"
   ]
  },
  {
   "cell_type": "code",
   "execution_count": null,
   "metadata": {
    "collapsed": true
   },
   "outputs": [],
   "source": []
  }
 ],
 "metadata": {
  "anaconda-cloud": {},
  "kernelspec": {
   "display_name": "Python [dlnd-tf-lab]",
   "language": "python",
   "name": "Python [dlnd-tf-lab]"
  }
 },
 "nbformat": 4,
 "nbformat_minor": 0
}
